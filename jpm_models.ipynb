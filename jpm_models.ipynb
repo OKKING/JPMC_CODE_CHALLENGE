{
 "cells": [
  {
   "cell_type": "code",
   "execution_count": 1,
   "id": "4c52aea5",
   "metadata": {},
   "outputs": [
    {
     "data": {
      "text/html": [
       "<script>\n",
       "code_show=true; \n",
       "function code_toggle() {\n",
       " if (code_show){\n",
       " $('div.input').hide();\n",
       " } else {\n",
       " $('div.input').show();\n",
       " }\n",
       " code_show = !code_show\n",
       "} \n",
       "$( document ).ready(code_toggle);\n",
       "</script>\n",
       "<form action=\"javascript:code_toggle()\"><input type=\"submit\" value=\"Click here to toggle on/off the raw code.\"></form>"
      ],
      "text/plain": [
       "<IPython.core.display.HTML object>"
      ]
     },
     "execution_count": 1,
     "metadata": {},
     "output_type": "execute_result"
    }
   ],
   "source": [
    "from IPython.display import HTML\n",
    "\n",
    "HTML('''<script>\n",
    "code_show=true; \n",
    "function code_toggle() {\n",
    " if (code_show){\n",
    " $('div.input').hide();\n",
    " } else {\n",
    " $('div.input').show();\n",
    " }\n",
    " code_show = !code_show\n",
    "} \n",
    "$( document ).ready(code_toggle);\n",
    "</script>\n",
    "<form action=\"javascript:code_toggle()\"><input type=\"submit\" value=\"Click here to toggle on/off the raw code.\"></form>''')"
   ]
  },
  {
   "cell_type": "code",
   "execution_count": 75,
   "id": "4eba5745",
   "metadata": {},
   "outputs": [
    {
     "data": {
      "text/plain": [
       "<module 'jm_mp' from 'C:\\\\Users\\\\jmu\\\\Documents\\\\wd2\\\\py36v2\\\\jm_mp.py'>"
      ]
     },
     "execution_count": 75,
     "metadata": {},
     "output_type": "execute_result"
    }
   ],
   "source": [
    "import pandas as pd\n",
    "import numpy as np\n",
    "import os\n",
    "import warnings\n",
    "import pickle\n",
    "\n",
    "import matplotlib.pyplot as plt\n",
    "import seaborn as sns\n",
    "\n",
    "import catboost as cab\n",
    "import xgboost as xgb\n",
    "from sklearn.metrics import mean_absolute_error, mean_squared_error\n",
    "from sklearn.metrics import log_loss, recall_score, precision_score,roc_auc_score, confusion_matrix,accuracy_score\n",
    "from sklearn.metrics import roc_curve, auc, precision_recall_curve\n",
    "from sklearn.model_selection import train_test_split,cross_val_score,GridSearchCV,RandomizedSearchCV\n",
    "from sklearn.calibration import CalibratedClassifierCV,calibration_curve\n",
    "import shap\n",
    "import scikitplot as skplt\n",
    "import importlib\n",
    "import jm_mp\n",
    "importlib.reload(jm_mp)"
   ]
  },
  {
   "cell_type": "code",
   "execution_count": 3,
   "id": "184e8831",
   "metadata": {},
   "outputs": [],
   "source": [
    "df_processed = pd.read_parquet(r'D:\\z7z8\\jpm\\archive\\processed_dataset.parquet')"
   ]
  },
  {
   "cell_type": "code",
   "execution_count": 6,
   "id": "afef662e",
   "metadata": {},
   "outputs": [
    {
     "data": {
      "text/plain": [
       "response_hours                0\n",
       "Longitude                 11119\n",
       "Latitude                  11119\n",
       "Agency Name                   0\n",
       "Complaint Type                0\n",
       "Location Type              2670\n",
       "Address Type               2331\n",
       "City                      10596\n",
       "Status                        0\n",
       "Community Board            1577\n",
       "Borough                    1577\n",
       "Open Data Channel Type        0\n",
       "Park Borough               1577\n",
       "campaign_year                 0\n",
       "campaign_month                0\n",
       "campaign_trend                0\n",
       "sub_Descriptor                0\n",
       "Weekday                       0\n",
       "dtype: int64"
      ]
     },
     "execution_count": 6,
     "metadata": {},
     "output_type": "execute_result"
    }
   ],
   "source": [
    "df_processed.isna().sum()"
   ]
  },
  {
   "cell_type": "code",
   "execution_count": 12,
   "id": "e4392d4d",
   "metadata": {},
   "outputs": [
    {
     "data": {
      "text/plain": [
       "Index(['response_hours', 'Longitude', 'Latitude', 'Agency Name',\n",
       "       'Complaint Type', 'Location Type', 'Address Type', 'City', 'Status',\n",
       "       'Community Board', 'Borough', 'Open Data Channel Type', 'Park Borough',\n",
       "       'campaign_year', 'campaign_month', 'campaign_trend', 'sub_Descriptor',\n",
       "       'Weekday'],\n",
       "      dtype='object')"
      ]
     },
     "execution_count": 12,
     "metadata": {},
     "output_type": "execute_result"
    }
   ],
   "source": [
    "df_processed.columns"
   ]
  },
  {
   "cell_type": "markdown",
   "id": "0d93c3b1",
   "metadata": {},
   "source": [
    "### XGBOOST"
   ]
  },
  {
   "cell_type": "markdown",
   "id": "da4bf7af",
   "metadata": {},
   "source": [
    "#### Create Data: Parameter tunning, Train,Test"
   ]
  },
  {
   "cell_type": "code",
   "execution_count": 29,
   "id": "41480c45",
   "metadata": {},
   "outputs": [
    {
     "name": "stdout",
     "output_type": "stream",
     "text": [
      "Agency Name (501831, 43)\n",
      "Complaint Type (501831, 22)\n",
      "Location Type (501831, 7)\n",
      "Address Type (501831, 3)\n",
      "City (501831, 47)\n",
      "Status (501831, 4)\n",
      "Community Board (501831, 77)\n",
      "Borough (501831, 6)\n",
      "Open Data Channel Type (501831, 5)\n",
      "Park Borough (501831, 6)\n",
      "sub_Descriptor (501831, 60)\n",
      "Weekday (501831, 7)\n"
     ]
    }
   ],
   "source": [
    "dummy_cols = ['Agency Name','Complaint Type', 'Location Type', 'Address Type', \n",
    "              'City', 'Status','Community Board', 'Borough', 'Open Data Channel Type', \n",
    "              'Park Borough','sub_Descriptor','Weekday']\n",
    "\n",
    "num_features = [x for x in df_processed.columns[1:] if x not in dummy_cols]\n",
    "\n",
    "dummy_var_list = [df_processed[num_features]]\n",
    "for feat in dummy_cols:\n",
    "    df_temp = pd.get_dummies(df_processed[feat])\n",
    "    df_temp.columns = [' '.join([feat,a]) for a in df_temp.columns]\n",
    "    print(feat,df_temp.shape)\n",
    "    dummy_var_list.append(df_temp)"
   ]
  },
  {
   "cell_type": "code",
   "execution_count": 30,
   "id": "f92e2a75",
   "metadata": {},
   "outputs": [
    {
     "name": "stdout",
     "output_type": "stream",
     "text": [
      "(501831, 292) (501831,)\n"
     ]
    }
   ],
   "source": [
    "X_xgb = functools.reduce(lambda x,y: pd.concat([x,y],axis =1),dummy_var_list)\n",
    "y_xgb = df_processed['response_hours']\n",
    "print(X_xgb.shape,y_xgb.shape)"
   ]
  },
  {
   "cell_type": "code",
   "execution_count": 31,
   "id": "42ba6ed9",
   "metadata": {},
   "outputs": [],
   "source": [
    "df_tun_xgb = pd.concat([X_xgb,y_xgb],axis =1).sample(frac = 0.1).reset_index(drop = True)\n",
    "y_tun_xgb = df_tun_xgb['response_hours']\n",
    "df_tun_xgb.drop('response_hours',axis =1,inplace =True)\n",
    "X_train_xgb,X_test_xgb,y_train_xgb,y_test_xgb = train_test_split(X_xgb,y_xgb,random_state = 99)"
   ]
  },
  {
   "cell_type": "markdown",
   "id": "e90fe32c",
   "metadata": {},
   "source": [
    "#### Tunning Hyperamaters"
   ]
  },
  {
   "cell_type": "code",
   "execution_count": 32,
   "id": "4c2975e6",
   "metadata": {
    "collapsed": true
   },
   "outputs": [
    {
     "name": "stdout",
     "output_type": "stream",
     "text": [
      "Fitting 4 folds for each of 20 candidates, totalling 80 fits\n",
      "[22:46:55] WARNING: C:/Users/Administrator/workspace/xgboost-win64_release_1.4.0/src/objective/regression_obj.cu:171: reg:linear is now deprecated in favor of reg:squarederror.\n",
      "[22:46:55] WARNING: C:/Users/Administrator/workspace/xgboost-win64_release_1.4.0/src/learner.cc:573: \n",
      "Parameters: { \"early_stopping_rounds\" } might not be used.\n",
      "\n",
      "  This may not be accurate due to some parameters are only used in language bindings but\n",
      "  passed down to XGBoost core.  Or some parameters are not used but slip through this\n",
      "  verification. Please open an issue if you find above cases.\n",
      "\n",
      "\n",
      "Wall time: 17min 40s\n"
     ]
    },
    {
     "data": {
      "text/plain": [
       "RandomizedSearchCV(cv=4,\n",
       "                   estimator=XGBRegressor(base_score=None, booster=None,\n",
       "                                          colsample_bylevel=None,\n",
       "                                          colsample_bynode=None,\n",
       "                                          colsample_bytree=None,\n",
       "                                          early_stopping_rounds=100,\n",
       "                                          eval_metric='mae', gamma=None,\n",
       "                                          gpu_id=None, importance_type='gain',\n",
       "                                          interaction_constraints=None,\n",
       "                                          learning_rate=None,\n",
       "                                          max_delta_step=None, max_depth=None,\n",
       "                                          min_child_weight=None, missing=nan,...\n",
       "                                          scale_pos_weight=None, subsample=None,\n",
       "                                          tree_method=None,\n",
       "                                          validate_parameters=None,\n",
       "                                          verbosity=None),\n",
       "                   n_iter=20, n_jobs=3,\n",
       "                   param_distributions={'gamma': array([0, 1, 2, 3, 4, 5]),\n",
       "                                        'learning_rate': array([0.01, 0.04, 0.07, 0.1 , 0.13, 0.16, 0.19]),\n",
       "                                        'max_depth': [3, 4, 5],\n",
       "                                        'n_estimators': [100, 200, 300, 400,\n",
       "                                                         500],\n",
       "                                        'reg_lambda': array([0.1, 0.6, 1.1, 1.6, 2.1, 2.6, 3.1, 3.6, 4.1, 4.6, 5.1, 5.6])},\n",
       "                   verbose=True)"
      ]
     },
     "execution_count": 32,
     "metadata": {},
     "output_type": "execute_result"
    }
   ],
   "source": [
    "%%time\n",
    "params_dict_xgb  = {'max_depth':[3,4,5],\n",
    "               'n_estimators':[100,200,300,400,500],\n",
    "               'learning_rate':np.arange(0.01,0.2,0.03),\n",
    "               'reg_lambda':np.arange(0.1,6,0.5),\n",
    "               'gamma':np.arange(0,6,1)}\n",
    "\n",
    "\n",
    "xgbr= xgb.XGBRegressor(objective = 'reg:linear',early_stopping_rounds=100,eval_metric = 'mae')\n",
    "rand_cv2 = RandomizedSearchCV(xgbr,param_distributions = params_dict_xgb,cv =4,n_iter =20,n_jobs=3,verbose = True)\n",
    "rand_cv2.fit(df_tun_xgb,y_tun_xgb)"
   ]
  },
  {
   "cell_type": "markdown",
   "id": "e709a503",
   "metadata": {},
   "source": [
    "#### Model Fit"
   ]
  },
  {
   "cell_type": "code",
   "execution_count": 33,
   "id": "64e32bfb",
   "metadata": {
    "collapsed": true
   },
   "outputs": [
    {
     "name": "stdout",
     "output_type": "stream",
     "text": [
      "[22:48:30] WARNING: C:/Users/Administrator/workspace/xgboost-win64_release_1.4.0/src/objective/regression_obj.cu:171: reg:linear is now deprecated in favor of reg:squarederror.\n",
      "[22:48:30] WARNING: C:/Users/Administrator/workspace/xgboost-win64_release_1.4.0/src/learner.cc:573: \n",
      "Parameters: { \"early_stopping_rounds\" } might not be used.\n",
      "\n",
      "  This may not be accurate due to some parameters are only used in language bindings but\n",
      "  passed down to XGBoost core.  Or some parameters are not used but slip through this\n",
      "  verification. Please open an issue if you find above cases.\n",
      "\n",
      "\n",
      "Wall time: 3min 44s\n"
     ]
    }
   ],
   "source": [
    "%%time\n",
    "warnings.filterwarnings('ignore')\n",
    "xgbr= rand_cv2.best_estimator_.fit(X_train_xgb,y_train_xgb)\n",
    "\n",
    "y_pred_test2 = xgbr.predict(X_test_xgb)\n",
    "y_pred_train2 = xgbr.predict(X_train_xgb)"
   ]
  },
  {
   "cell_type": "markdown",
   "id": "24ef4558",
   "metadata": {},
   "source": [
    "### CATBOOST"
   ]
  },
  {
   "cell_type": "markdown",
   "id": "837c33f8",
   "metadata": {},
   "source": [
    "#### Create Data: Parameter tunning, Train,Test"
   ]
  },
  {
   "cell_type": "code",
   "execution_count": 53,
   "id": "c9406a0a",
   "metadata": {},
   "outputs": [],
   "source": [
    "X_cab = df_processed.copy()\n",
    "X_cab[['Longitude','Latitude']] = X_cab[['Longitude','Latitude']].fillna(-99999)\n",
    "X_cab = X_cab.fillna('-99999')\n",
    "y_cab = X_cab['response_hours']\n",
    "\n",
    "df_tun_cab = X_cab.sample(frac = 0.07).reset_index(drop = True)\n",
    "y_tun_cab = df_tun_cab['response_hours']\n",
    "df_tun_cab.drop('response_hours',axis =1,inplace =True)\n",
    "X_cab.drop('response_hours',axis =1,inplace =True)\n",
    "X_train_cab,X_test_cab,y_train_cab,y_test_cab = train_test_split(X_cab,y_cab,random_state = 99)"
   ]
  },
  {
   "cell_type": "code",
   "execution_count": 54,
   "id": "e704b426",
   "metadata": {},
   "outputs": [],
   "source": [
    "str_features = X_cab.select_dtypes(exclude = [np.number]).columns.tolist()"
   ]
  },
  {
   "cell_type": "code",
   "execution_count": 56,
   "id": "a7c29e05",
   "metadata": {
    "collapsed": true
   },
   "outputs": [
    {
     "name": "stdout",
     "output_type": "stream",
     "text": [
      "Wall time: 5min 34s\n"
     ]
    },
    {
     "data": {
      "text/plain": [
       "RandomizedSearchCV(cv=4,\n",
       "                   estimator=<catboost.core.CatBoostRegressor object at 0x0000016188BA4860>,\n",
       "                   n_iter=20, n_jobs=3,\n",
       "                   param_distributions={'depth': [3, 4, 5],\n",
       "                                        'iterations': [100, 200, 300, 400, 500],\n",
       "                                        'l2_leaf_reg': [0.1, 0.9,\n",
       "                                                        1.7000000000000002,\n",
       "                                                        2.5000000000000004,\n",
       "                                                        3.3000000000000003, 4.1,\n",
       "                                                        4.9, 5.7],\n",
       "                                        'learning_rate': [0.01, 0.04,\n",
       "                                                          0.06999999999999999,\n",
       "                                                          0.09999999999999999],\n",
       "                                        'min_data_in_leaf': [10, 30, 50, 70, 90,\n",
       "                                                             110, 130]})"
      ]
     },
     "execution_count": 56,
     "metadata": {},
     "output_type": "execute_result"
    }
   ],
   "source": [
    "%%time\n",
    "params_dict_cab  = {'depth':[3,4,5],\n",
    "               'iterations':[100,200,300,400,500],\n",
    "               'learning_rate':list(np.arange(0.01,0.1,0.03)),\n",
    "               'l2_leaf_reg':list(np.arange(0.1,6,0.8)),\n",
    "               'min_data_in_leaf':list(np.arange(10,150,20))}\n",
    "cabr = cab.CatBoostRegressor(early_stopping_rounds=100,eval_metric = 'MAE',\n",
    "                            cat_features = str_features,verbose = False)\n",
    "\n",
    "rand_cv = RandomizedSearchCV(cabr,param_distributions = params_dict_cab,cv =4,n_iter =20,n_jobs=3)\n",
    "rand_cv.fit(df_tun_cab,y_tun_cab)"
   ]
  },
  {
   "cell_type": "code",
   "execution_count": 61,
   "id": "cef224d4",
   "metadata": {},
   "outputs": [],
   "source": [
    "# %%time\n",
    "warnings.filterwarnings('ignore')\n",
    "cabr= rand_cv.best_estimator_.fit(X_train_cab,y_train_cab)\n",
    "y_pred_test = cabr.predict(X_test_cab)\n",
    "y_pred_train = cabr.predict(X_train_cab)"
   ]
  },
  {
   "cell_type": "markdown",
   "id": "95295ccd",
   "metadata": {},
   "source": [
    "### Check predictions"
   ]
  },
  {
   "cell_type": "code",
   "execution_count": 68,
   "id": "c07a9062",
   "metadata": {},
   "outputs": [
    {
     "data": {
      "text/html": [
       "<table style = display:inline border=\"1\" class=\"dataframe\">\n",
       "  <thead>\n",
       "    <tr style=\"text-align: right;\">\n",
       "      <th></th>\n",
       "      <th>MAE</th>\n",
       "      <th>MSE</th>\n",
       "    </tr>\n",
       "    <tr>\n",
       "      <th>catboost</th>\n",
       "      <th></th>\n",
       "      <th></th>\n",
       "    </tr>\n",
       "  </thead>\n",
       "  <tbody>\n",
       "    <tr>\n",
       "      <th>Test Set</th>\n",
       "      <td>26.239</td>\n",
       "      <td>1313.65</td>\n",
       "    </tr>\n",
       "    <tr>\n",
       "      <th>Training Set</th>\n",
       "      <td>26.090</td>\n",
       "      <td>1303.36</td>\n",
       "    </tr>\n",
       "    <tr>\n",
       "      <th>Difference</th>\n",
       "      <td>-0.149</td>\n",
       "      <td>-10.29</td>\n",
       "    </tr>\n",
       "  </tbody>\n",
       "</table style = display:inline><table style = display:inline border=\"1\" class=\"dataframe\">\n",
       "  <thead>\n",
       "    <tr style=\"text-align: right;\">\n",
       "      <th></th>\n",
       "      <th>MAE</th>\n",
       "      <th>MSE</th>\n",
       "    </tr>\n",
       "    <tr>\n",
       "      <th>xgboost</th>\n",
       "      <th></th>\n",
       "      <th></th>\n",
       "    </tr>\n",
       "  </thead>\n",
       "  <tbody>\n",
       "    <tr>\n",
       "      <th>Test Set</th>\n",
       "      <td>26.199</td>\n",
       "      <td>1299.634</td>\n",
       "    </tr>\n",
       "    <tr>\n",
       "      <th>Training Set</th>\n",
       "      <td>25.977</td>\n",
       "      <td>1278.748</td>\n",
       "    </tr>\n",
       "    <tr>\n",
       "      <th>Difference</th>\n",
       "      <td>-0.222</td>\n",
       "      <td>-20.886</td>\n",
       "    </tr>\n",
       "  </tbody>\n",
       "</table style = display:inline>"
      ]
     },
     "metadata": {},
     "output_type": "display_data"
    }
   ],
   "source": [
    "jm_mp.display_sides(jm_mp.mae_mse_df(y_test_cab,y_pred_test,y_train_cab,y_pred_train,name = 'catboost'),\n",
    "                   jm_mp.mae_mse_df(y_test_xgb,y_pred_test2,y_train_xgb,y_pred_train2,name = 'xgboost'))"
   ]
  },
  {
   "cell_type": "code",
   "execution_count": 76,
   "id": "78a3b16f",
   "metadata": {},
   "outputs": [
    {
     "data": {
      "image/png": "[encoded data removed]",
      "text/plain": [
       "<Figure size 1152x360 with 2 Axes>"
      ]
     },
     "metadata": {
      "needs_background": "light"
     },
     "output_type": "display_data"
    }
   ],
   "source": [
    "df_s1 = pd.DataFrame({'y':y_test_xgb,\n",
    "                     'score':y_pred_test2})\n",
    "df_s2 = pd.DataFrame({'y':y_test_cab,\n",
    "                     'score':y_pred_test})\n",
    "fig = jm_mp.create_accuracy_plots(df_s1,df_s2,num_bins = 20,labels = ['xgboost','catboost'],xlim =[0,130],do_regression = True,show_log_odd = True)"
   ]
  },
  {
   "cell_type": "code",
   "execution_count": 77,
   "id": "2cec3e21",
   "metadata": {},
   "outputs": [
    {
     "name": "stderr",
     "output_type": "stream",
     "text": [
      "[NbConvertApp] Converting notebook jpm_models.ipynb to html\n",
      "[NbConvertApp] Writing 651177 bytes to jpm_models.html\n"
     ]
    }
   ],
   "source": [
    "!jupyter nbconvert jpm_models.ipynb --to html --output jpm_models.html"
   ]
  },
  {
   "cell_type": "code",
   "execution_count": null,
   "id": "ce427537",
   "metadata": {},
   "outputs": [],
   "source": []
  }
 ],
 "metadata": {
  "kernelspec": {
   "display_name": "Python 3",
   "language": "python",
   "name": "python3"
  },
  "language_info": {
   "codemirror_mode": {
    "name": "ipython",
    "version": 3
   },
   "file_extension": ".py",
   "mimetype": "text/x-python",
   "name": "python",
   "nbconvert_exporter": "python",
   "pygments_lexer": "ipython3",
   "version": "3.6.8"
  }
 },
 "nbformat": 4,
 "nbformat_minor": 5
}
